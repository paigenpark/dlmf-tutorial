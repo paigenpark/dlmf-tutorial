{
 "cells": [
  {
   "cell_type": "code",
   "execution_count": 28,
   "id": "6f90374c",
   "metadata": {},
   "outputs": [],
   "source": [
    "import tensorflow as tf\n",
    "import numpy as np\n",
    "import matplotlib.pyplot as plt\n",
    "tfkl = tf.keras.layers"
   ]
  },
  {
   "cell_type": "code",
   "execution_count": 2,
   "id": "a18fc6ce",
   "metadata": {},
   "outputs": [],
   "source": [
    "def get_data(index, data, max_val, mode):\n",
    "\n",
    "    # if we want to select data in order for any reason, we'd switch to \"not_random\" \n",
    "    # but we will use random sampling for training\n",
    "    if mode == \"not_random\":\n",
    "        entry = data[index, :]\n",
    "    else:\n",
    "        # Randomly selects index from data between 0 and the max index in training data\n",
    "        rand_index = tf.random.uniform([], minval=0, maxval=max_val, dtype=tf.int32)\n",
    "        entry = data[rand_index, :]\n",
    "\n",
    "\n",
    "    # Normalize or prepare data\n",
    "    geography, gender, year, age, rate = entry[0], entry[1], entry[2], entry[3], entry[4]\n",
    "    year = (year - 1959) / 60\n",
    "    age = tf.cast(age, tf.int32)\n",
    "    geography = tf.cast(geography, tf.int32)\n",
    "    gender = tf.cast(gender, tf.int32)\n",
    "    epsilon = 9e-06    # smallest observed rate in training data\n",
    "    rate = tf.math.log(tf.maximum(rate, epsilon))\n",
    "\n",
    "\n",
    "    # Reshape each element to scalar\n",
    "    features = (tf.reshape(year, [1]), tf.reshape(age, [1]),\n",
    "               tf.reshape(geography, [1]), tf.reshape(gender, [1]))\n",
    "    rate = tf.reshape(rate, [1])\n",
    "    return features, rate"
   ]
  },
  {
   "cell_type": "code",
   "execution_count": 3,
   "id": "df2be6f8",
   "metadata": {},
   "outputs": [],
   "source": [
    "def prep_data(data, mode):\n",
    "    data = tf.convert_to_tensor(data)\n",
    "    data = tf.cast(data, tf.float32)\n",
    "    max_val = data.shape[0]\n",
    "\n",
    "\n",
    "    dataset = tf.data.Dataset.from_tensor_slices(np.arange(10000))\n",
    "\n",
    "\n",
    "    if mode == \"train\":\n",
    "        dataset = dataset.repeat()\n",
    "    \n",
    "    else:\n",
    "        dataset = dataset.repeat(120)\n",
    "    \n",
    "    dataset = dataset.map(\n",
    "        lambda x: get_data(x, data, max_val=max_val, mode=mode), \n",
    "                          num_parallel_calls=4)\n",
    "\n",
    "\n",
    "    dataset = dataset.batch(256)\n",
    "\n",
    "\n",
    "    # Prefetch to improve performance\n",
    "    final_data = dataset.prefetch(buffer_size=tf.data.AUTOTUNE)\n",
    "\n",
    "\n",
    "    return final_data"
   ]
  },
  {
   "cell_type": "code",
   "execution_count": 4,
   "id": "042279e3",
   "metadata": {},
   "outputs": [],
   "source": [
    "def create_model(geo_dim):\n",
    "    # defining inputs \n",
    "    year = tfkl.Input(shape=(1,), dtype='float32', name='Year')\n",
    "    age =  tfkl.Input(shape=(1,), dtype='int32', name='Age')\n",
    "    geography = tfkl.Input(shape=(1,), dtype='int32', name='Geography')\n",
    "    gender = tfkl.Input(shape=(1,), dtype='int32', name='Gender')\n",
    "\n",
    "    # defining embedding layers \n",
    "    age_embed = tfkl.Embedding(input_dim=100, output_dim=5, name='Age_embed')(age)\n",
    "    age_embed = tfkl.Flatten()(age_embed)\n",
    "\n",
    "    gender_embed = tfkl.Embedding(input_dim=2, output_dim=5, name='Gender_embed')(gender)\n",
    "    gender_embed = tfkl.Flatten()(gender_embed)\n",
    "\n",
    "    geography_embed = tfkl.Embedding(input_dim=geo_dim, output_dim=5,       \n",
    "                                     name='Geography_embed')(geography)\n",
    "    geography_embed = tfkl.Flatten()(geography_embed)\n",
    "\n",
    "    # create feature vector that concatenates all inputs \n",
    "    x = tfkl.Concatenate()([year, age_embed, gender_embed, geography_embed])\n",
    "    x1 = x\n",
    "\n",
    "    # setting up hidden layers \n",
    "    x = tfkl.Dense(128, activation='tanh')(x)\n",
    "    x = tfkl.BatchNormalization()(x)\n",
    "    x = tfkl.Dropout(0.05)(x)\n",
    "\n",
    "    x = tfkl.Dense(128, activation='tanh')(x)\n",
    "    x = tfkl.BatchNormalization()(x)\n",
    "    x = tfkl.Dropout(0.05)(x)\n",
    "\n",
    "    x = tfkl.Dense(128, activation='tanh')(x)\n",
    "    x = tfkl.BatchNormalization()(x)\n",
    "    x = tfkl.Dropout(0.05)(x)\n",
    "\n",
    "    x = tfkl.Dense(128, activation='tanh')(x)\n",
    "    x = tfkl.BatchNormalization()(x)\n",
    "    x = tfkl.Dropout(0.05)(x)\n",
    "\n",
    "    x = tfkl.Concatenate()([x1, x])\n",
    "    x = tfkl.Dense(128, activation='tanh')(x)\n",
    "    x = tfkl.BatchNormalization()(x)\n",
    "    x = tfkl.Dropout(0.05)(x)\n",
    "    \n",
    "    x = tfkl.Dense(1, name='final')(x)\n",
    "\n",
    "    # creating the model \n",
    "    model = tf.keras.Model(inputs=[year, age, geography, gender], outputs=[x])\n",
    "\n",
    "    # compiling the model\n",
    "    model.compile(loss='mse', optimizer='adam')\n",
    "\n",
    "    return model\n"
   ]
  },
  {
   "cell_type": "code",
   "execution_count": 5,
   "id": "e9f1d6af",
   "metadata": {},
   "outputs": [],
   "source": [
    "def run_deep_model(dataset_train, dataset_test, geo_dim, epochs, steps_per_epoch):\n",
    "\n",
    "    model = create_model(geo_dim)\n",
    "\n",
    "    callbacks = [tf.keras.callbacks.ReduceLROnPlateau(monitor=\"val_loss\", factor=0.25, \n",
    "                                                      patience=3, verbose=0, mode=\"auto\", \n",
    "                                                      min_delta=1e-8, cooldown=0,        \n",
    "                                                      min_lr=0.0)]\n",
    "    history = model.fit(dataset_train, validation_data=dataset_test, \n",
    "                        validation_steps=25, \n",
    "                        steps_per_epoch=steps_per_epoch, \n",
    "                        epochs=epochs, verbose=2, callbacks=callbacks)\n",
    "\n",
    "    tf.keras.backend.clear_session()\n",
    "\n",
    "    return model "
   ]
  },
  {
   "cell_type": "code",
   "execution_count": 6,
   "id": "a25397e1",
   "metadata": {},
   "outputs": [],
   "source": [
    "# load data (adjust path as needed)\n",
    "training = np.loadtxt('hmd_training.txt')\n",
    "test = np.loadtxt('hmd_test.txt')\n",
    "\n",
    "# prep data\n",
    "train_prepped = prep_data(training, mode=\"train\")\n",
    "test_prepped = prep_data(test, mode=\"test\")\n",
    "\n",
    "# get value for the geography dimension\n",
    "geo_dim = int(max(training[:,0]) + 1)"
   ]
  },
  {
   "cell_type": "code",
   "execution_count": 42,
   "id": "fa931f50",
   "metadata": {},
   "outputs": [
    {
     "name": "stdout",
     "output_type": "stream",
     "text": [
      "<_PrefetchDataset element_spec=((TensorSpec(shape=(None, 1), dtype=tf.float32, name=None), TensorSpec(shape=(None, 1), dtype=tf.int32, name=None), TensorSpec(shape=(None, 1), dtype=tf.int32, name=None), TensorSpec(shape=(None, 1), dtype=tf.int32, name=None)), TensorSpec(shape=(None, 1), dtype=tf.float32, name=None))>\n"
     ]
    }
   ],
   "source": [
    "print(train_prepped\n",
    "      )"
   ]
  },
  {
   "cell_type": "code",
   "execution_count": 17,
   "id": "40d730da",
   "metadata": {},
   "outputs": [
    {
     "name": "stdout",
     "output_type": "stream",
     "text": [
      "Epoch 1/20\n",
      "1400/1400 - 10s - 7ms/step - loss: 2.0438 - val_loss: 0.2565 - learning_rate: 0.0010\n",
      "Epoch 2/20\n",
      "1400/1400 - 8s - 6ms/step - loss: 0.3340 - val_loss: 0.2771 - learning_rate: 0.0010\n",
      "Epoch 3/20\n",
      "1400/1400 - 8s - 6ms/step - loss: 0.2561 - val_loss: 0.2119 - learning_rate: 0.0010\n",
      "Epoch 4/20\n",
      "1400/1400 - 8s - 6ms/step - loss: 0.2170 - val_loss: 0.1962 - learning_rate: 0.0010\n",
      "Epoch 5/20\n",
      "1400/1400 - 8s - 6ms/step - loss: 0.2002 - val_loss: 0.2625 - learning_rate: 0.0010\n",
      "Epoch 6/20\n",
      "1400/1400 - 9s - 6ms/step - loss: 0.1891 - val_loss: 0.2368 - learning_rate: 0.0010\n",
      "Epoch 7/20\n",
      "1400/1400 - 8s - 6ms/step - loss: 0.1854 - val_loss: 0.1621 - learning_rate: 0.0010\n",
      "Epoch 8/20\n",
      "1400/1400 - 9s - 6ms/step - loss: 0.1758 - val_loss: 0.2099 - learning_rate: 0.0010\n",
      "Epoch 9/20\n",
      "1400/1400 - 9s - 6ms/step - loss: 0.1823 - val_loss: 0.1742 - learning_rate: 0.0010\n",
      "Epoch 10/20\n",
      "1400/1400 - 9s - 6ms/step - loss: 0.1764 - val_loss: 0.1893 - learning_rate: 0.0010\n",
      "Epoch 11/20\n",
      "1400/1400 - 9s - 6ms/step - loss: 0.1595 - val_loss: 0.1458 - learning_rate: 2.5000e-04\n",
      "Epoch 12/20\n",
      "1400/1400 - 9s - 6ms/step - loss: 0.1529 - val_loss: 0.1616 - learning_rate: 2.5000e-04\n",
      "Epoch 13/20\n",
      "1400/1400 - 9s - 6ms/step - loss: 0.1591 - val_loss: 0.1732 - learning_rate: 2.5000e-04\n",
      "Epoch 14/20\n",
      "1400/1400 - 9s - 6ms/step - loss: 0.1618 - val_loss: 0.1573 - learning_rate: 2.5000e-04\n",
      "Epoch 15/20\n",
      "1400/1400 - 9s - 6ms/step - loss: 0.1548 - val_loss: 0.1756 - learning_rate: 6.2500e-05\n",
      "Epoch 16/20\n",
      "1400/1400 - 9s - 6ms/step - loss: 0.1569 - val_loss: 0.1672 - learning_rate: 6.2500e-05\n",
      "Epoch 17/20\n",
      "1400/1400 - 9s - 6ms/step - loss: 0.1590 - val_loss: 0.1813 - learning_rate: 6.2500e-05\n",
      "Epoch 18/20\n",
      "1400/1400 - 9s - 6ms/step - loss: 0.1574 - val_loss: 0.1701 - learning_rate: 1.5625e-05\n",
      "Epoch 19/20\n",
      "1400/1400 - 9s - 6ms/step - loss: 0.1561 - val_loss: 0.1843 - learning_rate: 1.5625e-05\n",
      "Epoch 20/20\n",
      "1400/1400 - 9s - 7ms/step - loss: 0.1582 - val_loss: 0.1447 - learning_rate: 1.5625e-05\n"
     ]
    }
   ],
   "source": [
    "trained_model = run_deep_model(train_prepped, test_prepped, geo_dim,\n",
    "                                epochs = 20, steps_per_epoch=1400)  "
   ]
  },
  {
   "cell_type": "code",
   "execution_count": null,
   "id": "89b97b5f",
   "metadata": {},
   "outputs": [
    {
     "name": "stdout",
     "output_type": "stream",
     "text": [
      "\u001b[1m2482/2482\u001b[0m \u001b[32m━━━━━━━━━━━━━━━━━━━━\u001b[0m\u001b[37m\u001b[0m \u001b[1m1s\u001b[0m 513us/step\n"
     ]
    }
   ],
   "source": [
    "test_input_features = (tf.convert_to_tensor((test[:,2] - 1959) / 60,   \n",
    "                       dtype=tf.float32),  # Year\n",
    "                       tf.convert_to_tensor(test[:,3], dtype=tf.float32),  # Age\n",
    "                       tf.convert_to_tensor(test[:,0], dtype=tf.float32),  # Geo\n",
    "                       tf.convert_to_tensor(test[:,1], dtype=tf.float32))  # Sex\n",
    "\n",
    "test_predictions = trained_model.predict(test_input_features)\n"
   ]
  },
  {
   "cell_type": "code",
   "execution_count": 19,
   "id": "34ae07e8",
   "metadata": {},
   "outputs": [],
   "source": [
    "inputs_test = np.delete(test, 4, axis=1)\n",
    "test_predictions = np.column_stack((inputs_test, test_predictions))"
   ]
  },
  {
   "cell_type": "code",
   "execution_count": 25,
   "id": "42b6ae2a",
   "metadata": {},
   "outputs": [
    {
     "name": "stdout",
     "output_type": "stream",
     "text": [
      "[[ 5.00000000e+01  0.00000000e+00  2.00600000e+03  0.00000000e+00\n",
      "  -5.52948332e+00]\n",
      " [ 5.00000000e+01  1.00000000e+00  2.00600000e+03  0.00000000e+00\n",
      "  -5.46074200e+00]\n",
      " [ 5.00000000e+01  0.00000000e+00  2.00600000e+03  1.00000000e+00\n",
      "  -8.08326817e+00]\n",
      " ...\n",
      " [ 8.90000000e+01  1.00000000e+00  2.01500000e+03  9.80000000e+01\n",
      "  -9.61513162e-01]\n",
      " [ 8.90000000e+01  0.00000000e+00  2.01500000e+03  9.90000000e+01\n",
      "  -1.05368006e+00]\n",
      " [ 8.90000000e+01  1.00000000e+00  2.01500000e+03  9.90000000e+01\n",
      "  -9.32149172e-01]]\n"
     ]
    }
   ],
   "source": [
    "print(test_predictions)"
   ]
  },
  {
   "cell_type": "code",
   "execution_count": null,
   "id": "03c727a8",
   "metadata": {},
   "outputs": [],
   "source": [
    "preds_filtered = test_predictions[(test_predictions[:,0] == 50) & # Austrailia\n",
    "                                    (test_predictions[:,1] == 1) &  # Males\n",
    "                                    (test_predictions[:,2] == 2015)] \n",
    "\n",
    "test_filtered = test[(test[:,0] == 50) & # Austrailia\n",
    "                        (test[:,1] == 1) &  # Females\n",
    "                        (test[:,2] == 2015)]  "
   ]
  },
  {
   "cell_type": "code",
   "execution_count": 36,
   "id": "4024b749",
   "metadata": {},
   "outputs": [
    {
     "data": {
      "image/png": "[encoded data removed]",
      "text/plain": [
       "<Figure size 800x600 with 1 Axes>"
      ]
     },
     "metadata": {},
     "output_type": "display_data"
    }
   ],
   "source": [
    "plt.figure(figsize=(8, 6))\n",
    "\n",
    "plt.plot(test_filtered[:,3], test_filtered[:,4], color='blue', label='Actual Rates', marker='o')\n",
    "plt.plot(preds_filtered[:,3], np.exp(preds_filtered[:,4]), color='red', label='Predicted Rates', marker='x')\n",
    "plt.xlabel('Age')\n",
    "plt.ylabel('Mortality Rate')\n",
    "plt.title('Actual vs Predicted Mortality Rates for 2015 Australian Males')\n",
    "plt.legend()\n",
    "plt.show()\n"
   ]
  },
  {
   "cell_type": "code",
   "execution_count": 23,
   "id": "1c007cff",
   "metadata": {},
   "outputs": [
    {
     "data": {
      "text/plain": [
       "array([['AK', '0'],\n",
       "       ['AL', '1'],\n",
       "       ['AZ', '2'],\n",
       "       ['AR', '3'],\n",
       "       ['CA', '4'],\n",
       "       ['CO', '5'],\n",
       "       ['CT', '6'],\n",
       "       ['DE', '7'],\n",
       "       ['FL', '8'],\n",
       "       ['GA', '9'],\n",
       "       ['HI', '10'],\n",
       "       ['ID', '11'],\n",
       "       ['IL', '12'],\n",
       "       ['IN', '13'],\n",
       "       ['IA', '14'],\n",
       "       ['KS', '15'],\n",
       "       ['KY', '16'],\n",
       "       ['LA', '17'],\n",
       "       ['ME', '18'],\n",
       "       ['MD', '19'],\n",
       "       ['MA', '20'],\n",
       "       ['MI', '21'],\n",
       "       ['MN', '22'],\n",
       "       ['MS', '23'],\n",
       "       ['MO', '24'],\n",
       "       ['MT', '25'],\n",
       "       ['NE', '26'],\n",
       "       ['NV', '27'],\n",
       "       ['NH', '28'],\n",
       "       ['NJ', '29'],\n",
       "       ['NM', '30'],\n",
       "       ['NY', '31'],\n",
       "       ['NC', '32'],\n",
       "       ['ND', '33'],\n",
       "       ['OH', '34'],\n",
       "       ['OK', '35'],\n",
       "       ['OR', '36'],\n",
       "       ['PA', '37'],\n",
       "       ['RI', '38'],\n",
       "       ['SC', '39'],\n",
       "       ['SD', '40'],\n",
       "       ['TN', '41'],\n",
       "       ['TX', '42'],\n",
       "       ['UT', '43'],\n",
       "       ['VT', '44'],\n",
       "       ['VA', '45'],\n",
       "       ['WA', '46'],\n",
       "       ['WV', '47'],\n",
       "       ['WI', '48'],\n",
       "       ['WY', '49'],\n",
       "       ['AUS', '50'],\n",
       "       ['AUT', '51'],\n",
       "       ['BEL', '52'],\n",
       "       ['BGR', '53'],\n",
       "       ['BLR', '54'],\n",
       "       ['CAN', '55'],\n",
       "       ['CHE', '56'],\n",
       "       ['CZE', '57'],\n",
       "       ['DEUTE', '58'],\n",
       "       ['DEUTW', '59'],\n",
       "       ['DNK', '60'],\n",
       "       ['ESP', '61'],\n",
       "       ['EST', '62'],\n",
       "       ['FIN', '63'],\n",
       "       ['FRATNP', '64'],\n",
       "       ['GBR_NIR', '65'],\n",
       "       ['GBR_SCO', '66'],\n",
       "       ['GBRTENW', '67'],\n",
       "       ['GRC', '68'],\n",
       "       ['HUN', '69'],\n",
       "       ['IRL', '70'],\n",
       "       ['ISL', '71'],\n",
       "       ['ISR', '72'],\n",
       "       ['ITA', '73'],\n",
       "       ['JPN', '74'],\n",
       "       ['LTU', '75'],\n",
       "       ['LUX', '76'],\n",
       "       ['LVA', '77'],\n",
       "       ['NLD', '78'],\n",
       "       ['NOR', '79'],\n",
       "       ['NZL_NP', '80'],\n",
       "       ['POL', '81'],\n",
       "       ['PRT', '82'],\n",
       "       ['RUS', '83'],\n",
       "       ['SVK', '84'],\n",
       "       ['SVN', '85'],\n",
       "       ['SWE', '86'],\n",
       "       ['TWN', '87'],\n",
       "       ['UKR', '88'],\n",
       "       ['USA', '89']], dtype='<U21')"
      ]
     },
     "execution_count": 23,
     "metadata": {},
     "output_type": "execute_result"
    }
   ],
   "source": [
    "np.load('geos_key.npy')"
   ]
  },
  {
   "cell_type": "code",
   "execution_count": null,
   "id": "25dd9bfa",
   "metadata": {},
   "outputs": [],
   "source": []
  }
 ],
 "metadata": {
  "kernelspec": {
   "display_name": "deep",
   "language": "python",
   "name": "python3"
  },
  "language_info": {
   "codemirror_mode": {
    "name": "ipython",
    "version": 3
   },
   "file_extension": ".py",
   "mimetype": "text/x-python",
   "name": "python",
   "nbconvert_exporter": "python",
   "pygments_lexer": "ipython3",
   "version": "3.11.5"
  }
 },
 "nbformat": 4,
 "nbformat_minor": 5
}
